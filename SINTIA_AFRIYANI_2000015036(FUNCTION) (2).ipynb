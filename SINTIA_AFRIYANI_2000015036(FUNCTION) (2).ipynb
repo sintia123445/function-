{
  "nbformat": 4,
  "nbformat_minor": 0,
  "metadata": {
    "colab": {
      "name": "SINTIA AFRIYANI 2000015036(FUNCTION).ipynb",
      "provenance": [],
      "collapsed_sections": []
    },
    "kernelspec": {
      "name": "python3",
      "display_name": "Python 3"
    },
    "language_info": {
      "name": "python"
    }
  },
  "cells": [
    {
      "cell_type": "markdown",
      "metadata": {
        "id": "ugb_YO__yJLk"
      },
      "source": [
        "## Function\n"
      ]
    },
    {
      "cell_type": "markdown",
      "metadata": {
        "id": "wdxxU9S7ycnV"
      },
      "source": [
        "**Pembuka**\n",
        "\n",
        "Assalamu'alaikum warahmatullahi wabarakatuh. Puji syukur kehadirat Allah Subhana Wata'ala atas limpahan\n",
        "Rahmat dan HidayahNya kepada kita semua. Sholawat serta salam senantiasa tercurah limpahkan kepada\n",
        "baginda Muhammad Rasulullah Salallahualaihiwassalam.\n",
        "Halo para Pejuang Data. Selamat berjumpa di pertemuan pertama Program Training Algoritma Machine\n",
        "Learning Kelas Mahir.\n",
        "\n",
        "Pada pertemuan ini kamu akan belajar:\n",
        "\n",
        "- Fungsi Pada Python\n",
        "- Keyword & Argument\n",
        "- Membuat Fungsi Pada Python\n",
        "- Positional Argument & Keyword\n",
        "- Argument Default\n",
        "- Contoh User Defined Function\n",
        "- Latihan\n",
        "\n",
        "**Function**\n",
        "\n",
        "Function adalah sebuah blok statemen yang hanya akan dijalankan saat ia dipanggil.!"
      ]
    },
    {
      "cell_type": "code",
      "metadata": {
        "colab": {
          "base_uri": "https://localhost:8080/"
        },
        "id": "u4xNtYZYzGko",
        "outputId": "c978b2f8-8a96-4864-84f3-12571a18e1b2"
      },
      "source": [
        "genap = [2,4,6,8,10]\n",
        "len(genap)"
      ],
      "execution_count": null,
      "outputs": [
        {
          "output_type": "execute_result",
          "data": {
            "text/plain": [
              "5"
            ]
          },
          "metadata": {},
          "execution_count": 1
        }
      ]
    },
    {
      "cell_type": "code",
      "metadata": {
        "colab": {
          "base_uri": "https://localhost:8080/"
        },
        "id": "t5kvPIhXz7SI",
        "outputId": "7039bcba-3925-4d44-95e8-522fb62ab0b7"
      },
      "source": [
        "print('Assalamualaikum Dunia')"
      ],
      "execution_count": null,
      "outputs": [
        {
          "output_type": "stream",
          "name": "stdout",
          "text": [
            "Assalamualaikum Dunia\n"
          ]
        }
      ]
    },
    {
      "cell_type": "markdown",
      "metadata": {
        "id": "ZHBRMiOs0Aa7"
      },
      "source": [
        "**Keyword & Argument!**\n",
        "\n",
        "Keyword/Parameter : variable yang digunakan dalam deklarasi fungsi\n",
        "\n",
        "Argument : nilai yang diberikan saat pemanggilan fungsi"
      ]
    },
    {
      "cell_type": "code",
      "metadata": {
        "colab": {
          "base_uri": "https://localhost:8080/"
        },
        "id": "8EV3Xi6F0H7q",
        "outputId": "4b515881-19eb-4f52-b327-c0b84adea886"
      },
      "source": [
        "# sep = keyword/argument\n",
        "# '-' = argument\n",
        "print('kata1', 'kata2', sep='/')\n"
      ],
      "execution_count": 44,
      "outputs": [
        {
          "output_type": "stream",
          "name": "stdout",
          "text": [
            "kata1/kata2\n"
          ]
        }
      ]
    },
    {
      "cell_type": "markdown",
      "metadata": {
        "id": "nqOi2wjq0ZhB"
      },
      "source": [
        "**Membuat Fungsi**\n",
        "\n",
        "Python mengizinkan untuk mendeklarasikan fungsi dalam kode yang dituliskan yang dikenal dengan user\n",
        "*defined function*.\n",
        "\n",
        "def nama_fungsi(argument):\n",
        "\n",
        " pernyataan_1\n",
        "\n",
        " …\n",
        " \n",
        " pernyataan_n\n",
        " \n",
        " return nilai_keluaran\n"
      ]
    },
    {
      "cell_type": "code",
      "metadata": {
        "id": "yjniPX1E0eWq"
      },
      "source": [
        "# Pendefinisian fungsi_kuadrat\n",
        "def fungsi_kuadrat(x):\n",
        "    hasil = x**2\n",
        "    return hasil"
      ],
      "execution_count": null,
      "outputs": []
    },
    {
      "cell_type": "code",
      "metadata": {
        "id": "ki2wpPzw2ZA8"
      },
      "source": [
        "# Alternatif pendefinisian fungsi_kuadrat\n",
        "def fungsi_kuadrat(x):\n",
        "    return x**2\n"
      ],
      "execution_count": null,
      "outputs": []
    },
    {
      "cell_type": "code",
      "metadata": {
        "colab": {
          "base_uri": "https://localhost:8080/"
        },
        "id": "TBU2fOOa2f1-",
        "outputId": "e1f68c96-ffa8-4777-ccd7-09cd916328d0"
      },
      "source": [
        "# Pemanggilan fungsi_kuadrat\n",
        "fungsi_kuadrat(6)"
      ],
      "execution_count": null,
      "outputs": [
        {
          "output_type": "execute_result",
          "data": {
            "text/plain": [
              "36"
            ]
          },
          "metadata": {},
          "execution_count": 9
        }
      ]
    },
    {
      "cell_type": "markdown",
      "metadata": {
        "id": "e2EOassP2fEb"
      },
      "source": [
        "**Positional Argument & Keyword**\n",
        "\n",
        "Kita bisa menyatakan argumen sebagai positional argument atau keyword. Beberapa manfaat argumen kata\n",
        "kunci dapat berupa:\n",
        "\n",
        "- Kita dapat menyebut argumen dengan nama mereka untuk memperjelas apa yang mereka wakili\n",
        "- Kita dapat mengatur ulang argumen dengan cara yang membuatnya paling mudah dibaca"
      ]
    },
    {
      "cell_type": "code",
      "metadata": {
        "id": "vIf1wbn42zXR"
      },
      "source": [
        "# Mendefinisikan fungsi dengan beberapa argumen\n",
        "def tampilkan_kata(a, b, c):\n",
        " print(a, b, c)\n"
      ],
      "execution_count": null,
      "outputs": []
    },
    {
      "cell_type": "code",
      "metadata": {
        "colab": {
          "base_uri": "https://localhost:8080/"
        },
        "id": "MJ9d_TGm26Ki",
        "outputId": "a7b79e8c-c598-452e-bddf-02c4e349f842"
      },
      "source": [
        "# Positional Arguments\n",
        "tampilkan_kata('aku', 'kau', 'dia')"
      ],
      "execution_count": null,
      "outputs": [
        {
          "output_type": "stream",
          "name": "stdout",
          "text": [
            "aku kau dia\n"
          ]
        }
      ]
    },
    {
      "cell_type": "code",
      "metadata": {
        "colab": {
          "base_uri": "https://localhost:8080/"
        },
        "id": "QdHAKKpA2-MU",
        "outputId": "06e53ff9-ea1a-4eec-bc5d-03df6c107b60"
      },
      "source": [
        "tampilkan_kata('kau', 'aku', 'dia')"
      ],
      "execution_count": null,
      "outputs": [
        {
          "output_type": "stream",
          "name": "stdout",
          "text": [
            "kau aku dia\n"
          ]
        }
      ]
    },
    {
      "cell_type": "code",
      "metadata": {
        "colab": {
          "base_uri": "https://localhost:8080/"
        },
        "id": "iUeY_K-f3MFX",
        "outputId": "b04d9cbf-f3cc-412e-90ef-5eec74935381"
      },
      "source": [
        "# argumen berdasarkan keyword-nya\n",
        "tampilkan_kata(a='aku', b='kau', c='dia')\n",
        "tampilkan_kata(c='dia', b='kau', a='aku') \n"
      ],
      "execution_count": null,
      "outputs": [
        {
          "output_type": "stream",
          "name": "stdout",
          "text": [
            "aku kau dia\n",
            "aku kau dia\n"
          ]
        }
      ]
    },
    {
      "cell_type": "markdown",
      "metadata": {
        "id": "6n-6GDsh3QCI"
      },
      "source": [
        "Catatan: jika sudah diberi kunci maka urutan tidak menjadi penting"
      ]
    },
    {
      "cell_type": "markdown",
      "metadata": {
        "id": "6yxnT2aD3VA0"
      },
      "source": [
        "**Ini tidak diijinkan:**\n",
        "\n",
        "- Positional argument setelah keyword argument\n",
        "tampilkan_kata('aku', b='kau', 'dia')\n",
        "\n",
        "- Terdapat dua nilai untuk satu keyword argument yang sama\n",
        "tampilkan_kata(1, b=2, a=3)"
      ]
    },
    {
      "cell_type": "markdown",
      "metadata": {
        "id": "iqjo_VP93eQ7"
      },
      "source": [
        "**Argument Default**\n",
        "\n",
        "Fungsi dapat memiliki argumen default dengan nilai yang telah ditentukan sebelumnya. Argumen ini dapat\n",
        "ditinggalkan dan nilai default kemudian diteruskan ke fungsi, atau argumen dapat dirubah dengan nilai yang\n",
        "berbeda. Perhatikan bahwa argumen default harus ditentukan sebagai parameter terakhir dalam suatu fungsi."
      ]
    },
    {
      "cell_type": "code",
      "metadata": {
        "colab": {
          "base_uri": "https://localhost:8080/"
        },
        "id": "QRCcG8X43RIC",
        "outputId": "9c9c8cf4-6f60-4e3c-f217-3a95c11eeaf8"
      },
      "source": [
        "# Argumen default\n",
        "def tampilkan_kata(a, b, c, d='sahabat'):\n",
        " print(a, b, c, d)\n",
        "tampilkan_kata('aku', 'kau', 'dia')\n",
        "tampilkan_kata('aku', b='kau', c='dia', d='teman')"
      ],
      "execution_count": null,
      "outputs": [
        {
          "output_type": "stream",
          "name": "stdout",
          "text": [
            "aku kau dia sahabat\n",
            "aku kau dia teman\n"
          ]
        }
      ]
    },
    {
      "cell_type": "markdown",
      "metadata": {
        "id": "QfTJoobr3349"
      },
      "source": [
        "Catatan: Argumen default harus diletakkan terakhir"
      ]
    },
    {
      "cell_type": "markdown",
      "metadata": {
        "id": "7evYe4yT3_Ro"
      },
      "source": [
        "**Contoh User Defined Function**\n",
        "\n",
        "Contoh 1:\n",
        "\n",
        "Penjumlahan 2 bilangan"
      ]
    },
    {
      "cell_type": "code",
      "metadata": {
        "colab": {
          "base_uri": "https://localhost:8080/"
        },
        "id": "enBkB0T_37Kk",
        "outputId": "d30d5e2d-0644-412d-ceb2-1ab8075c1a63"
      },
      "source": [
        "def penjumlahan(x, y): # input\n",
        " a=x+y # proses\n",
        " return a # output\n",
        "penjumlahan(1, 2) # pemanggilan fungsi\n"
      ],
      "execution_count": null,
      "outputs": [
        {
          "output_type": "execute_result",
          "data": {
            "text/plain": [
              "3"
            ]
          },
          "metadata": {},
          "execution_count": 15
        }
      ]
    },
    {
      "cell_type": "markdown",
      "metadata": {
        "id": "MVKzkRgw4KYc"
      },
      "source": [
        "Contoh 2:\n",
        "\n",
        "Penjumlahan yang memungkinkan untuk tiga bilangan"
      ]
    },
    {
      "cell_type": "code",
      "metadata": {
        "colab": {
          "base_uri": "https://localhost:8080/"
        },
        "id": "nsDjXA9n4OUI",
        "outputId": "487244f7-82c3-4c6b-a74b-a4aa2371a3d8"
      },
      "source": [
        "def penjumlahan(x,y,z=None):\n",
        " if (z==None):\n",
        "     return x+y\n",
        " else:\n",
        "     return x+y+z\n",
        "print(penjumlahan(1, 2))\n",
        "print(penjumlahan(1, 2, 3))"
      ],
      "execution_count": null,
      "outputs": [
        {
          "output_type": "stream",
          "name": "stdout",
          "text": [
            "3\n",
            "6\n"
          ]
        }
      ]
    },
    {
      "cell_type": "markdown",
      "metadata": {
        "id": "eVxkuepz4evm"
      },
      "source": [
        "Contoh 3:\n",
        "\n",
        "Menghitung luas dan keliling persegi"
      ]
    },
    {
      "cell_type": "code",
      "metadata": {
        "colab": {
          "base_uri": "https://localhost:8080/"
        },
        "id": "BYuex1jR4ga5",
        "outputId": "794d90a2-51b3-4abb-acc8-b6f10da4f43a"
      },
      "source": [
        "def luas_dan_keliling_presegi(s):\n",
        " luas = s**2\n",
        " keliling = 4*s\n",
        " return luas, keliling\n",
        "luas, keliling = luas_dan_keliling_presegi(2)\n",
        "print('luas:', luas)\n",
        "print('keliling:', keliling)"
      ],
      "execution_count": null,
      "outputs": [
        {
          "output_type": "stream",
          "name": "stdout",
          "text": [
            "luas: 4\n",
            "keliling: 8\n"
          ]
        }
      ]
    },
    {
      "cell_type": "markdown",
      "metadata": {
        "id": "U6VNdu644pnS"
      },
      "source": [
        "**Latihan**\n",
        "\n",
        "1. Buatlah sebuah fungsi untuk menghitung luas dan keliling lingkaran dengan input jari2!"
      ]
    },
    {
      "cell_type": "code",
      "metadata": {
        "colab": {
          "base_uri": "https://localhost:8080/"
        },
        "id": "PSshT6YDpdet",
        "outputId": "586fd12c-418c-4d64-db63-0a7f35d8f062"
      },
      "source": [
        "def luas_dan_keliling_lingkaran(r):\n",
        " luas = 3.14*r**2\n",
        " keliling = 2*3.14*r\n",
        " return luas\n",
        " return keliling\n",
        "luas = luas_dan_keliling_lingkaran(100)\n",
        "keliling = luas_dan_keliling_lingkaran(20)\n",
        "print('luas lingkaran:', luas)\n",
        "print('keliling lingkaran:', keliling)\n"
      ],
      "execution_count": 81,
      "outputs": [
        {
          "output_type": "stream",
          "name": "stdout",
          "text": [
            "luas lingkaran: 31400.0\n",
            "keliling lingkaran: 1256.0\n"
          ]
        }
      ]
    },
    {
      "cell_type": "markdown",
      "metadata": {
        "id": "l18tp7xgrNdy"
      },
      "source": [
        "2. Buatlah sebuah fungsi untuk menggabungkan dua kata dalam bentuk string bebas menjadi satu kata tanpa spasi dengan huruf kecil\n",
        "\n",
        "Contoh:\n",
        "\n",
        "gabung_kata('TANGKUBAN', 'PeRaHu')\n",
        "\n",
        "Output:\n",
        "```python 'tangkubanperahu'"
      ]
    },
    {
      "cell_type": "code",
      "metadata": {
        "colab": {
          "base_uri": "https://localhost:8080/",
          "height": 35
        },
        "id": "g6nmcOgGtBZC",
        "outputId": "f42e91ba-23df-4b2f-83d4-d575af87bb73"
      },
      "source": [
        "def gabung_kata(a='TANGKUBAN',b= 'PeRaHu'):\n",
        "   c = a+b\n",
        "   return c\n",
        "gabung_kata('tangkuban','perahu')\n"
      ],
      "execution_count": 66,
      "outputs": [
        {
          "output_type": "execute_result",
          "data": {
            "application/vnd.google.colaboratory.intrinsic+json": {
              "type": "string"
            },
            "text/plain": [
              "'tangkubanperahu'"
            ]
          },
          "metadata": {},
          "execution_count": 66
        }
      ]
    },
    {
      "cell_type": "markdown",
      "metadata": {
        "id": "Uw2Oq3fa1mRq"
      },
      "source": [
        "3. Buatlah sebuah fungsi awal_akhir(list_input) untuk menukar elemen pertama pada sebuah list\n",
        "dengan elemen terakhir pada list yang sama!\n",
        "Contoh:\n",
        "\n",
        "awal_akhir([1,2,3,4])\n",
        "\n",
        "Output:\n",
        "\n",
        "[4,2,3,1] \n",
        "\n"
      ]
    },
    {
      "cell_type": "code",
      "metadata": {
        "colab": {
          "base_uri": "https://localhost:8080/"
        },
        "id": "PYcM0MNes1dC",
        "outputId": "657cfe2b-596d-4d43-9202-450d5bed8279"
      },
      "source": [
        "def awal_akhir(a,b,c,d):\n",
        "  return [d,b,c,a]\n",
        "awal_akhir(1,2,3,4)"
      ],
      "execution_count": 70,
      "outputs": [
        {
          "output_type": "execute_result",
          "data": {
            "text/plain": [
              "[4, 2, 3, 1]"
            ]
          },
          "metadata": {},
          "execution_count": 70
        }
      ]
    }
  ]
}