{
  "nbformat": 4,
  "nbformat_minor": 0,
  "metadata": {
    "colab": {
      "name": "Sintia Afriyani 2000015036(LAMBDA).ipynb",
      "provenance": [],
      "collapsed_sections": []
    },
    "kernelspec": {
      "name": "python3",
      "display_name": "Python 3"
    },
    "language_info": {
      "name": "python"
    }
  },
  "cells": [
    {
      "cell_type": "markdown",
      "metadata": {
        "id": "Gt2faPA-6m5x"
      },
      "source": [
        "# LAMBDA"
      ]
    },
    {
      "cell_type": "markdown",
      "metadata": {
        "id": "JQSGXYkRo4nO"
      },
      "source": [
        "**Pembuka**\n",
        "\n",
        "Assalamu'alaikum warahmatullahi wabarakatuh. Puji syukur kehadirat Allah Subhana Wata'ala atas limpahan\n",
        "Rahmat dan HidayahNya kepada kita semua. Sholawat serta salam senantiasa tercurah limpahkan kepada\n",
        "baginda Muhammad Rasulullah Salallahualaihiwassalam.\n",
        "\n",
        "Halo para Pejuang Data. Selamat berjumpa di pertemuan pertama Program Training Algoritma Machine\n",
        "Learning Kelas Mahir.\n",
        "\n",
        "Pada pertemuan ini kamu akan belajar:\n",
        "\n",
        "- Lambda Pada Python\n",
        "- Menggunakan Lambda Expression\n",
        "- Anonymous Function\n",
        "- Eksekusi Lambda Secara Langsung\n",
        "- Mengapa Harus Pakai Lambda?\n",
        "- Contoh Pemakaian Fungsi Lambda\n",
        "- Latihan"
      ]
    },
    {
      "cell_type": "markdown",
      "metadata": {
        "id": "-7IyIQsw6aFk"
      },
      "source": [
        "**Lambda**\n",
        "\n",
        "Fungsi lambda adalah fungsi anonim one line yang didefinisikan tanpa nama. Fungsi lambda dapat\n",
        "mengambil sejumlah arguments , tetapi hanya dapat memiliki satu expression . Sementara fungsi normal\n",
        "didefinisikan menggunakan kata kunci def , dalam Python fungsi anonim didefinisikan menggunakan kata\n",
        "kunci lambda.\n",
        "\n",
        "Fungsi Lambda digunakan ketika fungsi sederhana hanya digunakan sekali atau untuk waktu yang singkat\n",
        "dalam kode kita. Penggunaannya yang paling umum adalah sebagai argumen untuk fungsi tingkat tinggi (fungsi\n",
        "yang menggunakan fungsi lain sebagai argumen).\n",
        "\n",
        "Misalkan kita punya fungsi penjumlahan kuadrat seperti ini:"
      ]
    },
    {
      "cell_type": "code",
      "metadata": {
        "id": "FKUKjq4L6sGO"
      },
      "source": [
        "def penjumlahan_kuadrat(x,y):\n",
        " return x**2 + y**2"
      ],
      "execution_count": null,
      "outputs": []
    },
    {
      "cell_type": "markdown",
      "metadata": {
        "id": "okB1C9OO62xr"
      },
      "source": [
        "dengan lambda.. kita tidak perlu menggunakan def dan return , bahkan kita juga tidak perlu menuliskan\n",
        "namanya.\n"
      ]
    },
    {
      "cell_type": "code",
      "metadata": {
        "colab": {
          "base_uri": "https://localhost:8080/"
        },
        "id": "tMt1ZopM637F",
        "outputId": "3c9d3002-4464-4815-e403-3924cfcfe04c"
      },
      "source": [
        "lambda x,y : x**2 + y**2"
      ],
      "execution_count": 1,
      "outputs": [
        {
          "output_type": "execute_result",
          "data": {
            "text/plain": [
              "<function __main__.<lambda>>"
            ]
          },
          "metadata": {},
          "execution_count": 1
        }
      ]
    },
    {
      "cell_type": "markdown",
      "metadata": {
        "id": "dhHATmDl7gRh"
      },
      "source": [
        "**Menggunakan Lambda Expression**\n",
        "\n",
        "Lambda digunakan untuk membuat fungsi dalam satu baris ekspresi. Ini adalah format untuk membuat fungsi\n",
        "lambda:\n",
        "Lambda bisa memiliki lebih dari satu argumen atau parameter, tapi hanya bisa memiliki satu ekspresi atau isi.\n",
        "![R.jpeg](data:image/jpeg;base64,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)\n"
      ]
    },
    {
      "cell_type": "code",
      "metadata": {
        "id": "3Cx5Mgkt7upa"
      },
      "source": [
        "greeting = lambda name: print(f\"Hello, {name}\") \n"
      ],
      "execution_count": null,
      "outputs": []
    },
    {
      "cell_type": "markdown",
      "metadata": {
        "id": "CXw6z2N470xw"
      },
      "source": [
        "Karena fungsi lambda tidak punya nama, jadi kita butuh variabel untuk menyimpannya.\n",
        "Nanti saat kita mau panggil, kita tinggal tuliskan saja nama variabelnya seperti ini:"
      ]
    },
    {
      "cell_type": "code",
      "metadata": {
        "colab": {
          "base_uri": "https://localhost:8080/"
        },
        "id": "6toz8yXZ75YG",
        "outputId": "91ee3e21-f1ab-4623-a52b-25467bacddd6"
      },
      "source": [
        "greeting(\"Dian\")\n",
        "greeting(\"Ayu\")\n"
      ],
      "execution_count": null,
      "outputs": [
        {
          "output_type": "stream",
          "name": "stdout",
          "text": [
            "Hello, Dian\n",
            "Hello, Ayu\n"
          ]
        }
      ]
    },
    {
      "cell_type": "markdown",
      "metadata": {
        "id": "tsgjmDHe76GE"
      },
      "source": [
        "Beberapa contoh penggunaan fungsi lambda"
      ]
    },
    {
      "cell_type": "code",
      "metadata": {
        "colab": {
          "base_uri": "https://localhost:8080/"
        },
        "id": "os8W22Tn7_2B",
        "outputId": "fcd83d41-6bde-4545-d158-33b97ad2954e"
      },
      "source": [
        "# Fungsi lambda untuk menambahkan angka 10 kepada argument input\n",
        "f = lambda x: x+10\n",
        "val1 = f(5)\n",
        "val2 = f(100)\n",
        "print(val1, val2)"
      ],
      "execution_count": null,
      "outputs": [
        {
          "output_type": "stream",
          "name": "stdout",
          "text": [
            "15 110\n"
          ]
        }
      ]
    },
    {
      "cell_type": "code",
      "metadata": {
        "colab": {
          "base_uri": "https://localhost:8080/"
        },
        "id": "PVqbpAGp8JQF",
        "outputId": "a1ca5851-a882-4dc5-835f-151166fd0b76"
      },
      "source": [
        "# fungsi lambda untuk mengalikan dua argumen input dan menampilkan hasilnya\n",
        "f = lambda x,y: x*y\n",
        "val3 = f(2,10)\n",
        "val4 = f(7,5)\n",
        "print(val3, val4)"
      ],
      "execution_count": null,
      "outputs": [
        {
          "output_type": "stream",
          "name": "stdout",
          "text": [
            "20 35\n"
          ]
        }
      ]
    },
    {
      "cell_type": "markdown",
      "metadata": {
        "id": "6ClYo60T8HSd"
      },
      "source": [
        "**Anonymous Function**\n",
        "\n",
        "Karena lambda adalah anonymous function, ia akan bebas menggunakan nama apa saja. Dengan kata lain,\n",
        "fungsi lambda bisa disimpan di variabel mana pun. Ini tentunya tidak bisa dilakukan oleh fungsi yang dibuat\n",
        "dengan def. Coba perhatikan ini:"
      ]
    },
    {
      "cell_type": "code",
      "metadata": {
        "colab": {
          "base_uri": "https://localhost:8080/",
          "height": 200
        },
        "id": "XNFzdCtj8T-h",
        "outputId": "ce54ae90-9c2c-4388-b45c-e79c843c908c"
      },
      "source": [
        "def say_hello(nama):\n",
        " print(f\"Hello {nama}, apa kabar?\")\n",
        "ucapin = say_hello(nama)"
      ],
      "execution_count": null,
      "outputs": [
        {
          "output_type": "error",
          "ename": "NameError",
          "evalue": "ignored",
          "traceback": [
            "\u001b[0;31m---------------------------------------------------------------------------\u001b[0m",
            "\u001b[0;31mNameError\u001b[0m                                 Traceback (most recent call last)",
            "\u001b[0;32m<ipython-input-8-5bfcc15f04b7>\u001b[0m in \u001b[0;36m<module>\u001b[0;34m()\u001b[0m\n\u001b[1;32m      1\u001b[0m \u001b[0;32mdef\u001b[0m \u001b[0msay_hello\u001b[0m\u001b[0;34m(\u001b[0m\u001b[0mnama\u001b[0m\u001b[0;34m)\u001b[0m\u001b[0;34m:\u001b[0m\u001b[0;34m\u001b[0m\u001b[0;34m\u001b[0m\u001b[0m\n\u001b[1;32m      2\u001b[0m  \u001b[0mprint\u001b[0m\u001b[0;34m(\u001b[0m\u001b[0;34mf\"Hello {nama}, apa kabar?\"\u001b[0m\u001b[0;34m)\u001b[0m\u001b[0;34m\u001b[0m\u001b[0;34m\u001b[0m\u001b[0m\n\u001b[0;32m----> 3\u001b[0;31m \u001b[0mucapin\u001b[0m \u001b[0;34m=\u001b[0m \u001b[0msay_hello\u001b[0m\u001b[0;34m(\u001b[0m\u001b[0mnama\u001b[0m\u001b[0;34m)\u001b[0m\u001b[0;34m\u001b[0m\u001b[0;34m\u001b[0m\u001b[0m\n\u001b[0m",
            "\u001b[0;31mNameError\u001b[0m: name 'nama' is not defined"
          ]
        }
      ]
    },
    {
      "cell_type": "markdown",
      "metadata": {
        "id": "xKNU4uDS8Yuz"
      },
      "source": [
        "Kita mencoba membuat fungsi say_hello() dengan def, kemudian menyimpannya ke dalam variabel ucapin.\n",
        "\n",
        "Tapi malah error!\n",
        "\n",
        "Ini karena fungsi tersebut bukanlah fungsi anonymous yang boleh dibah-ubah namanya.\n",
        "Lalu coba perhatikan di baris terakhir, fungsi lambda greeting() yang sudah dibuat disimpan lagi ke variabel\n",
        "yang berbeda, yakni sapa.\n"
      ]
    },
    {
      "cell_type": "code",
      "metadata": {
        "colab": {
          "base_uri": "https://localhost:8080/"
        },
        "id": "bzDyGlvG8d8Q",
        "outputId": "a414e9a0-7641-46b5-9306-ccb1e9ec7fb2"
      },
      "source": [
        "greeting = lambda name: print(f\"Hello, {name}\")\n",
        "sapa = greeting\n",
        "greeting(\"Andi\")"
      ],
      "execution_count": null,
      "outputs": [
        {
          "output_type": "stream",
          "name": "stdout",
          "text": [
            "Hello, Andi\n"
          ]
        }
      ]
    },
    {
      "cell_type": "code",
      "metadata": {
        "colab": {
          "base_uri": "https://localhost:8080/"
        },
        "id": "7DHrnWKQ8i4n",
        "outputId": "f89afa1c-62bf-4a04-d704-5a35cd3c0b0a"
      },
      "source": [
        "sapa(\"Neli\")"
      ],
      "execution_count": null,
      "outputs": [
        {
          "output_type": "stream",
          "name": "stdout",
          "text": [
            "Hello, Neli\n"
          ]
        }
      ]
    },
    {
      "cell_type": "markdown",
      "metadata": {
        "id": "UA313WQ48fV9"
      },
      "source": [
        "Hasilnya tidak error, karena ini adalah fungsi anonymous atau lambda.\n",
        "\n",
        "**Eksekusi Lambda Secara Langsung**\n",
        "\n",
        "Eksekusi Lambda Secara Langsung Kelebihan fungsi lambda dibandingkan def adalah bisa kita eksekusi\n",
        "langsung.\n",
        "\n",
        "Contohnya:\n"
      ]
    },
    {
      "cell_type": "code",
      "metadata": {
        "colab": {
          "base_uri": "https://localhost:8080/"
        },
        "id": "bjhsKFIW8-11",
        "outputId": "a1a4e2f0-16a5-4125-ac20-aad63c48b414"
      },
      "source": [
        "(lambda x,y: x**2 + y**2)(4,6)"
      ],
      "execution_count": null,
      "outputs": [
        {
          "output_type": "execute_result",
          "data": {
            "text/plain": [
              "52"
            ]
          },
          "metadata": {},
          "execution_count": 11
        }
      ]
    },
    {
      "cell_type": "markdown",
      "metadata": {
        "id": "77bqXvtm9Jfw"
      },
      "source": [
        "Tanda kurung yang mengapit fungsi lambda artinya kita akan langsung \n",
        "mengeksekusi fungsi tersebut.\n",
        "\n",
        "Lalu kurung berikutnya akan berisi argument.\n",
        "Angka 4 dan 6 adalah argument untuk x dan y yang akan diberikan kepada fungsi lambda.\n",
        "\n",
        "Maka kita akan langsung mendapatkan hasilnya, yakni: 42 + 62 = 52.\n",
        "\n",
        "Hasil dari eksekusi ini bisa juga kita simpan ke dalam variabel.\n"
      ]
    },
    {
      "cell_type": "code",
      "metadata": {
        "id": "Tx4ZY1Rj9SPw"
      },
      "source": [
        "hasil = (lambda x,y: x**2 + y**2)(4,6)"
      ],
      "execution_count": null,
      "outputs": []
    },
    {
      "cell_type": "markdown",
      "metadata": {
        "id": "_C3bIwL49V1G"
      },
      "source": [
        "**Mengapa Harus Pakai Lambda?**\n",
        "\n",
        "Kita memang tidak harus selalu menggunakan Lambda, tapi dalam kasus tertentu lambda lebih baik\n",
        "dibandingkan fungsi biasa.\n",
        "\n",
        "Lambda biasanya dibutuhkan saat kita ingin membuat fungsi dalam satu baris.\n",
        "\n",
        "Biasanya saat menggunakan fungsi-fungsi seperti filter() , map() , dan reduce() kita akan\n",
        "membutuhkan lambda.\n",
        "\n",
        "Mengapa?\n",
        "\n",
        "Karena di fungsi-fungsi tersebut membutuhkan parameter fungsi.\n",
        "\n",
        "Contoh:\n"
      ]
    },
    {
      "cell_type": "code",
      "metadata": {
        "colab": {
          "base_uri": "https://localhost:8080/"
        },
        "id": "r9RxPX7_9gXC",
        "outputId": "31f22e48-93ac-486b-db44-8c22c5aaea62"
      },
      "source": [
        "bilangan = [10,2,8,7,5,4,3,11,0, 1]\n",
        "filtered_result = map (lambda x: x*x, bilangan)\n",
        "print(list(filtered_result))\n"
      ],
      "execution_count": null,
      "outputs": [
        {
          "output_type": "stream",
          "name": "stdout",
          "text": [
            "[100, 4, 64, 49, 25, 16, 9, 121, 0, 1]\n"
          ]
        }
      ]
    },
    {
      "cell_type": "markdown",
      "metadata": {
        "id": "EMmQD60j9ogo"
      },
      "source": [
        "Pada fungsi map() kita memberikan parameter dengan fungsi lambda.\n",
        "\n",
        "Mengapa bisa begitu?\n",
        "\n",
        "Karena lambda bisa disimpan ke dalam variabel, otomatis dia akan bisa juga jadi parameter.\n",
        "\n",
        "Satu lagi contoh dengan fungsi filter():"
      ]
    },
    {
      "cell_type": "code",
      "metadata": {
        "colab": {
          "base_uri": "https://localhost:8080/"
        },
        "id": "ojxv5y309tyU",
        "outputId": "3ad99c55-ed8f-4bde-f69e-497ea1579778"
      },
      "source": [
        "# menentukan bilangan genap\n",
        "genap = lambda x: x%2 == 0\n",
        "list(filter(genap, range(11)))"
      ],
      "execution_count": null,
      "outputs": [
        {
          "output_type": "execute_result",
          "data": {
            "text/plain": [
              "[0, 2, 4, 6, 8, 10]"
            ]
          },
          "metadata": {},
          "execution_count": 14
        }
      ]
    },
    {
      "cell_type": "markdown",
      "metadata": {
        "id": "_7k-9Jdx9xzz"
      },
      "source": [
        "**Contoh Pemakaian Fungsi Lambda**\n",
        "\n",
        "1. Melakukan filter tertentu pada suatu list\n"
      ]
    },
    {
      "cell_type": "code",
      "metadata": {
        "colab": {
          "base_uri": "https://localhost:8080/"
        },
        "id": "4uizPaLI927t",
        "outputId": "adbf6c75-e2f1-4830-8217-62e2e076a1cf"
      },
      "source": [
        "list_nama_provinsi = ['Jawa Barat', 'Jawa Timur', 'Jawa Tengah', 'DKI Jakarta', 'Banten']\n",
        "\n",
        "# Menggambil nama provinsi dengan kata 'Jawa'\n",
        "\n",
        "pilih_jawa = lambda k: 'jawa' in k.lower()\n",
        "\n",
        "# Note:lower() untuk merubah huruf menjadi lower case\n",
        "\n",
        "list(filter(pilih_jawa, list_nama_provinsi))"
      ],
      "execution_count": null,
      "outputs": [
        {
          "output_type": "execute_result",
          "data": {
            "text/plain": [
              "['Jawa Barat', 'Jawa Timur', 'Jawa Tengah']"
            ]
          },
          "metadata": {},
          "execution_count": 17
        }
      ]
    },
    {
      "cell_type": "markdown",
      "metadata": {
        "id": "MG8N5Uad-NG5"
      },
      "source": [
        "2. Mendefinisikan kolom baru dengan fungsi tertentu pada DataFrame"
      ]
    },
    {
      "cell_type": "code",
      "metadata": {
        "colab": {
          "base_uri": "https://localhost:8080/",
          "height": 238
        },
        "id": "ktd2hImB-N-K",
        "outputId": "f795495f-c885-4cc5-87d1-e419497a1ef3"
      },
      "source": [
        "# Impor Library Pandas\n",
        "import pandas as pd\n",
        "# Membuat list yang memuat data\n",
        "hasil_ekspor= [['Rohan',455],['Elvan',250],['Irpan',495],\n",
        " ['Soni',400],['Radhika',350],['Joni',450]]\n",
        "# Membuat Pandas DataFrame\n",
        "df = pd.DataFrame(hasil_ekspor,columns=['Eksportir','Total_Ekspor_TON'])\n",
        "# Target Ekspor adalah 500 Ton\n",
        "# Persentase hasil ekspor diperoleh dari Total_Ekspor_TON dibagi target X 100%\n",
        "# diterapkan pada dataframe dengan bantuan method df.assign()\n",
        "df = df.assign(Persentase = lambda x: (x['Total_Ekspor_TON'] /500 * 100))\n",
        "# Menampilkan DataFRame\n",
        "df\n",
        "\n"
      ],
      "execution_count": null,
      "outputs": [
        {
          "output_type": "execute_result",
          "data": {
            "text/html": [
              "<div>\n",
              "<style scoped>\n",
              "    .dataframe tbody tr th:only-of-type {\n",
              "        vertical-align: middle;\n",
              "    }\n",
              "\n",
              "    .dataframe tbody tr th {\n",
              "        vertical-align: top;\n",
              "    }\n",
              "\n",
              "    .dataframe thead th {\n",
              "        text-align: right;\n",
              "    }\n",
              "</style>\n",
              "<table border=\"1\" class=\"dataframe\">\n",
              "  <thead>\n",
              "    <tr style=\"text-align: right;\">\n",
              "      <th></th>\n",
              "      <th>Eksportir</th>\n",
              "      <th>Total_Ekspor_TON</th>\n",
              "      <th>Persentase</th>\n",
              "    </tr>\n",
              "  </thead>\n",
              "  <tbody>\n",
              "    <tr>\n",
              "      <th>0</th>\n",
              "      <td>Rohan</td>\n",
              "      <td>455</td>\n",
              "      <td>91.0</td>\n",
              "    </tr>\n",
              "    <tr>\n",
              "      <th>1</th>\n",
              "      <td>Elvan</td>\n",
              "      <td>250</td>\n",
              "      <td>50.0</td>\n",
              "    </tr>\n",
              "    <tr>\n",
              "      <th>2</th>\n",
              "      <td>Irpan</td>\n",
              "      <td>495</td>\n",
              "      <td>99.0</td>\n",
              "    </tr>\n",
              "    <tr>\n",
              "      <th>3</th>\n",
              "      <td>Soni</td>\n",
              "      <td>400</td>\n",
              "      <td>80.0</td>\n",
              "    </tr>\n",
              "    <tr>\n",
              "      <th>4</th>\n",
              "      <td>Radhika</td>\n",
              "      <td>350</td>\n",
              "      <td>70.0</td>\n",
              "    </tr>\n",
              "    <tr>\n",
              "      <th>5</th>\n",
              "      <td>Joni</td>\n",
              "      <td>450</td>\n",
              "      <td>90.0</td>\n",
              "    </tr>\n",
              "  </tbody>\n",
              "</table>\n",
              "</div>"
            ],
            "text/plain": [
              "  Eksportir  Total_Ekspor_TON  Persentase\n",
              "0     Rohan               455        91.0\n",
              "1     Elvan               250        50.0\n",
              "2     Irpan               495        99.0\n",
              "3      Soni               400        80.0\n",
              "4   Radhika               350        70.0\n",
              "5      Joni               450        90.0"
            ]
          },
          "metadata": {},
          "execution_count": 18
        }
      ]
    },
    {
      "cell_type": "markdown",
      "metadata": {
        "id": "wNNYaMYN-bS5"
      },
      "source": [
        "**Latihan**\n",
        "\n",
        "1. Buatlah fungsi lambda untuk melakukan filter pada data range(n) untuk data-data yang berupa bilangan\n",
        "kelipatan 3!\n"
      ]
    },
    {
      "cell_type": "code",
      "metadata": {
        "colab": {
          "base_uri": "https://localhost:8080/"
        },
        "id": "_-SYgy9SGHot",
        "outputId": "94b65705-0049-4084-b7f7-d1e726780554"
      },
      "source": [
        "kelipatan = lambda x: x%3 == 0\n",
        "list(filter(kelipatan, range(10)))"
      ],
      "execution_count": null,
      "outputs": [
        {
          "output_type": "execute_result",
          "data": {
            "text/plain": [
              "[0, 3, 6, 9]"
            ]
          },
          "metadata": {},
          "execution_count": 6
        }
      ]
    },
    {
      "cell_type": "markdown",
      "metadata": {
        "id": "iUZjNN-sETzS"
      },
      "source": [
        "2. Buatlah fungsi lambda untuk memilih kata-kata dengan jumlah karakter lebih dari sama dengan 6 pada list\n",
        "inputnya. Misal:\n",
        "\n",
        "list_input=['saya', 'adalah', 'seorang', 'kapiten']\n",
        "\n",
        "Output:\n",
        "\n",
        "['adalah', 'seorang', 'kapiten']"
      ]
    },
    {
      "cell_type": "code",
      "metadata": {
        "colab": {
          "base_uri": "https://localhost:8080/"
        },
        "id": "DmR9QkcEFVtH",
        "outputId": "db0b7d6c-c48c-49ee-d854-c39741e27314"
      },
      "source": [
        "list_input = ['saya', 'adalah', 'seorang', 'kapiten','muda','berani','tangguh']\n",
        "pilih= lambda x : list_input [1:4]\n",
        "list(filter(pilih , list_input [1:4]))\n"
      ],
      "execution_count": null,
      "outputs": [
        {
          "output_type": "execute_result",
          "data": {
            "text/plain": [
              "['adalah', 'seorang', 'kapiten']"
            ]
          },
          "metadata": {},
          "execution_count": 61
        }
      ]
    }
  ]
}